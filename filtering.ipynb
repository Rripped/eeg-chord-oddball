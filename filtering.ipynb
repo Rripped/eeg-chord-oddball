{
 "cells": [
  {
   "cell_type": "markdown",
   "metadata": {},
   "source": [
    "# Reducing and Filtering of Chord-Oddball data"
   ]
  },
  {
   "cell_type": "code",
   "execution_count": 123,
   "metadata": {},
   "outputs": [],
   "source": [
    "import mne\n",
    "import matplotlib\n",
    "import matplotlib.pyplot as plt\n",
    "import sys\n",
    "sys.path.insert(1, \"../\")\n",
    "import ccs_eeg_utils\n",
    "import numpy as np\n",
    "import mne.preprocessing as prep\n",
    "import os\n",
    "import sklearn \n",
    "from contextlib import contextmanager\n",
    "from autoreject import AutoReject\n",
    "import json\n",
    "\n",
    "from mne_bids import (BIDSPath, read_raw_bids, write_raw_bids, inspect_dataset)\n",
    "\n",
    "matplotlib.use('Qt5Agg')\n",
    "\n",
    "%matplotlib qt\n",
    "\n",
    "# path where dataset is stored\n",
    "bids_root = \"./data/ds003570/\"\n",
    "TASK = 'AuditoryOddballChords'\n",
    "SUBJECT = '014'\n",
    "SUPRESS_BIDS_OUTPUT = True"
   ]
  },
  {
   "cell_type": "code",
   "execution_count": 128,
   "metadata": {},
   "outputs": [],
   "source": [
    "# Context manager to suppress stdout and stderr\n",
    "@contextmanager\n",
    "def suppress_stdout_stderr():\n",
    "    with open(os.devnull, 'w') as devnull:\n",
    "        old_stdout = sys.stdout\n",
    "        old_stderr = sys.stderr\n",
    "        sys.stdout = devnull\n",
    "        sys.stderr = devnull\n",
    "        try:\n",
    "            yield\n",
    "        finally:\n",
    "            sys.stdout = old_stdout\n",
    "            sys.stderr = old_stderr\n",
    "\n",
    "def read_raw_data(subject_id):\n",
    "    bids_path = BIDSPath(subject=subject_id,\n",
    "                         datatype='eeg', suffix='eeg', task=TASK,\n",
    "                         root=bids_root)\n",
    "\n",
    "    if SUPRESS_BIDS_OUTPUT:\n",
    "        with suppress_stdout_stderr():\n",
    "            raw = read_raw_bids(bids_path)\n",
    "    else:\n",
    "        raw = read_raw_bids(bids_path)\n",
    "\n",
    "    # Inplace?\n",
    "    ccs_eeg_utils.read_annotations_core(bids_path, raw)\n",
    "    raw.load_data()\n",
    "    \n",
    "    return raw, bids_path\n",
    "\n",
    "def preprocessing(raw, bad_channels = []):\n",
    "    # TODO: bandpass first, downsample later? -> expensive!\n",
    "    # 1. Downsampling to 64 Hz\n",
    "    if raw.info['sfreq'] > 64:\n",
    "        raw.resample(128)\n",
    "\n",
    "    # Set channel types to EEG if not already set\n",
    "    if not all(ch_type in ['eeg', 'stim'] for ch_type in raw.get_channel_types()):\n",
    "        eeg_channel_names = raw.ch_names\n",
    "        channel_types = {name: 'eeg' for name in eeg_channel_names}\n",
    "        raw.set_channel_types(channel_types)\n",
    "\n",
    "    # 2. Band-pass filter between 0.5 Hz and 30 Hz\n",
    "    raw.filter(0.5, 30, fir_design='firwin')\n",
    "\n",
    "    # 3. Re-referencing to the average activity of all electrodes\n",
    "    #TODO: add apply_proj() here to apply arp?\n",
    "    raw.set_eeg_reference('average', projection=True)\n",
    "\n",
    "    \"\"\" events = prep.find_eog_events(raw)\n",
    "    print(events) \"\"\"\n",
    "\n",
    "    # 5. Data Reduction (optional)\n",
    "    # For instance, crop the first 60 seconds of the data\n",
    "\n",
    "    return raw\n",
    "\n",
    "\n",
    "def save_preprocessed_data(file_path, raw):\n",
    "    \"\"\"\n",
    "    Saves the preprocessed EEG data to a file.\n",
    "\n",
    "    Parameters:\n",
    "    file_path (str): The path where the preprocessed data will be saved.\n",
    "    raw (mne.io.Raw): The preprocessed MNE Raw object containing EEG data.\n",
    "    \"\"\"\n",
    "    # Check if file_path ends with .fif extension\n",
    "    if not file_path.endswith('.fif'):\n",
    "        file_path += '.fif'\n",
    "\n",
    "    # Save the data\n",
    "    try:\n",
    "        raw.save(file_path, overwrite=True)\n",
    "        print(f\"Data saved successfully to {file_path}\")\n",
    "    except Exception as e:\n",
    "        print(f\"Error saving data: {e}\")\n",
    "\n",
    "# see https://neuraldatascience.io/7-eeg/erp_artifacts.html\n",
    "def get_ica(data):\n",
    "    data.load_data()\n",
    "    data.set_montage('standard_1020', match_case=False)\n",
    "    ica= mne.preprocessing.ICA(method=\"fastica\")\n",
    "    ica.fit(data, verbose=True)\n",
    "    ica.plot_components()\n",
    "    ica.plot_properties(data, picks=[3])\n",
    "\n",
    "\n",
    "def split_in_blocks(raw):\n",
    "    events, event_id = mne.events_from_annotations(raw)\n",
    "\n",
    "    # Identify indices of 'STATUS:boundary' events\n",
    "    boundary_events = events[events[:, 2] == event_id['STATUS:boundary'], 0]\n",
    "\n",
    "    # Split the data into blocks\n",
    "    blocks = []\n",
    "    start_idx = 0\n",
    "    for end_idx in boundary_events:\n",
    "        block = raw.copy().crop(tmin=raw.times[start_idx], tmax=raw.times[end_idx])\n",
    "        blocks.append(block)\n",
    "        start_idx = end_idx\n",
    "\n",
    "\n",
    "    return blocks\n",
    "\n",
    "\n",
    "def interpolate_bads_and_merge(blocks):\n",
    "    # Interpolate bad channels\n",
    "    for block in blocks:\n",
    "        block.interpolate_bads()\n",
    "\n",
    "    # Merge the blocks\n",
    "    raw = mne.concatenate_raws(blocks)\n",
    "\n",
    "    return raw\n",
    "\n",
    "\n",
    "def create_bad_json_structure():\n",
    "    subjects = [i for i in range(1,41)]\n",
    "    for s in range(len(subjects)):\n",
    "        subjects[s] = [b for b in range(1,9)]\n",
    "        for b in range(len(subjects[s])):\n",
    "            subjects[s][b] = []\n",
    "\n",
    "    return subjects\n",
    "    \n"
   ]
  },
  {
   "cell_type": "code",
   "execution_count": 125,
   "metadata": {},
   "outputs": [
    {
     "name": "stdout",
     "output_type": "stream",
     "text": [
      "Reading 0 ... 4818943  =      0.000 ...  2353.000 secs...\n"
     ]
    },
    {
     "data": {
      "text/html": [
       "<table class=\"table table-hover table-striped table-sm table-responsive small\">\n",
       "    <tr>\n",
       "        <th>Measurement date</th>\n",
       "        \n",
       "        <td>Unknown</td>\n",
       "        \n",
       "    </tr>\n",
       "    <tr>\n",
       "        <th>Experimenter</th>\n",
       "        \n",
       "        <td>Unknown</td>\n",
       "        \n",
       "    </tr>\n",
       "        <th>Participant</th>\n",
       "        \n",
       "            \n",
       "            <td>sub-014</td>\n",
       "            \n",
       "        \n",
       "    </tr>\n",
       "    <tr>\n",
       "        <th>Digitized points</th>\n",
       "        \n",
       "        <td>3 points</td>\n",
       "        \n",
       "    </tr>\n",
       "    <tr>\n",
       "        <th>Good channels</th>\n",
       "        <td>64 misc</td>\n",
       "    </tr>\n",
       "    <tr>\n",
       "        <th>Bad channels</th>\n",
       "        <td>None</td>\n",
       "    </tr>\n",
       "    <tr>\n",
       "        <th>EOG channels</th>\n",
       "        <td>Not available</td>\n",
       "    </tr>\n",
       "    <tr>\n",
       "        <th>ECG channels</th>\n",
       "        <td>Not available</td>\n",
       "    \n",
       "    <tr>\n",
       "        <th>Sampling frequency</th>\n",
       "        <td>2048.00 Hz</td>\n",
       "    </tr>\n",
       "    \n",
       "    \n",
       "    <tr>\n",
       "        <th>Highpass</th>\n",
       "        <td>0.00 Hz</td>\n",
       "    </tr>\n",
       "    \n",
       "    \n",
       "    <tr>\n",
       "        <th>Lowpass</th>\n",
       "        <td>1024.00 Hz</td>\n",
       "    </tr>\n",
       "    \n",
       "    \n",
       "</table>"
      ],
      "text/plain": [
       "<Info | 10 non-empty values\n",
       " bads: []\n",
       " ch_names: Fp1, AF7, AF3, F1, F3, F5, F7, FT7, FC5, FC3, FC1, C1, C3, C5, ...\n",
       " chs: 64 misc\n",
       " custom_ref_applied: False\n",
       " dig: 3 items (3 Cardinal)\n",
       " highpass: 0.0 Hz\n",
       " line_freq: 60.0\n",
       " lowpass: 1024.0 Hz\n",
       " meas_date: unspecified\n",
       " nchan: 64\n",
       " projs: []\n",
       " sfreq: 2048.0 Hz\n",
       " subject_info: 5 items (dict)\n",
       ">"
      ]
     },
     "execution_count": 125,
     "metadata": {},
     "output_type": "execute_result"
    }
   ],
   "source": [
    "raw, bids_path = read_raw_data(SUBJECT)\n",
    "\n",
    "raw.info"
   ]
  },
  {
   "cell_type": "code",
   "execution_count": 126,
   "metadata": {},
   "outputs": [],
   "source": [
    "#raw.plot()"
   ]
  },
  {
   "cell_type": "code",
   "execution_count": 130,
   "metadata": {},
   "outputs": [
    {
     "name": "stdout",
     "output_type": "stream",
     "text": [
      "Used Annotations descriptions: ['STATUS:16128', 'STATUS:Correct - Exemplar!', 'STATUS:Correct - Function!', 'STATUS:Incorrect - Standard!', 'STATUS:boundary', 'STATUS:five6_S', 'STATUS:five6_deviantE', 'STATUS:five6_deviantEcorrect_E', 'STATUS:five6_deviantF', 'STATUS:five6_deviantFcorrect_F', 'STATUS:fiveRoot_S', 'STATUS:fiveRoot_deviantE', 'STATUS:fiveRoot_deviantEcorrect_E', 'STATUS:fiveRoot_deviantF', 'STATUS:fiveRoot_deviantFcorrect_F', 'STATUS:four6_S', 'STATUS:four6_Sincorrect', 'STATUS:four6_deviantE', 'STATUS:four6_deviantEcorrect_E', 'STATUS:four6_deviantF', 'STATUS:four6_deviantFcorrect_F', 'STATUS:fourRoot_S', 'STATUS:fourRoot_Sincorrect', 'STATUS:fourRoot_deviantE', 'STATUS:fourRoot_deviantEcorrect_E', 'STATUS:fourRoot_deviantF', 'STATUS:fourRoot_deviantFcorrect_F', 'STATUS:one', 'STATUS:two']\n",
      "Channels marked as bad:\n",
      "['C3']\n",
      "Channels marked as bad:\n",
      "['FC1']\n",
      "Channels marked as bad:\n",
      "['C5']\n",
      "Channels marked as bad:\n",
      "['F3']\n",
      "Channels marked as bad:\n",
      "['CP3', 'CP5', 'TP7']\n",
      "Channels marked as bad:\n",
      "['FC1', 'FC3', 'FC5', 'FT7']\n",
      "Channels marked as bad:\n",
      "['FC1']\n",
      "Interpolating bad channels\n"
     ]
    },
    {
     "ename": "ValueError",
     "evalue": "No digitization points found for dig_kinds=[4 (FIFFV_POINT_EXTRA), 3 (FIFFV_POINT_EEG)]",
     "output_type": "error",
     "traceback": [
      "\u001b[0;31m---------------------------------------------------------------------------\u001b[0m",
      "\u001b[0;31mValueError\u001b[0m                                Traceback (most recent call last)",
      "Cell \u001b[0;32mIn[130], line 15\u001b[0m\n\u001b[1;32m     12\u001b[0m     plt\u001b[38;5;241m.\u001b[39mshow(block\u001b[38;5;241m=\u001b[39m\u001b[38;5;28;01mTrue\u001b[39;00m)\n\u001b[1;32m     13\u001b[0m     bads[\u001b[38;5;28mint\u001b[39m(SUBJECT)][blocks\u001b[38;5;241m.\u001b[39mindex(b)] \u001b[38;5;241m=\u001b[39m b\u001b[38;5;241m.\u001b[39minfo[\u001b[38;5;124m'\u001b[39m\u001b[38;5;124mbads\u001b[39m\u001b[38;5;124m'\u001b[39m]\n\u001b[0;32m---> 15\u001b[0m interpol_raw \u001b[38;5;241m=\u001b[39m \u001b[43minterpolate_bads_and_merge\u001b[49m\u001b[43m(\u001b[49m\u001b[43mblocks\u001b[49m\u001b[43m)\u001b[49m\n\u001b[1;32m     16\u001b[0m prep_raw \u001b[38;5;241m=\u001b[39m preprocessing(interpol_raw\u001b[38;5;241m.\u001b[39mcopy())\n\u001b[1;32m     17\u001b[0m save_preprocessed_data(\u001b[38;5;124mf\u001b[39m\u001b[38;5;124m\"\u001b[39m\u001b[38;5;124m./data/processed_\u001b[39m\u001b[38;5;132;01m{\u001b[39;00mSUBJECT\u001b[38;5;132;01m}\u001b[39;00m\u001b[38;5;124m_raw.fif\u001b[39m\u001b[38;5;124m\"\u001b[39m, prep_raw)\n",
      "Cell \u001b[0;32mIn[128], line 117\u001b[0m, in \u001b[0;36minterpolate_bads_and_merge\u001b[0;34m(blocks)\u001b[0m\n\u001b[1;32m    114\u001b[0m \u001b[38;5;28;01mdef\u001b[39;00m \u001b[38;5;21minterpolate_bads_and_merge\u001b[39m(blocks):\n\u001b[1;32m    115\u001b[0m     \u001b[38;5;66;03m# Interpolate bad channels\u001b[39;00m\n\u001b[1;32m    116\u001b[0m     \u001b[38;5;28;01mfor\u001b[39;00m block \u001b[38;5;129;01min\u001b[39;00m blocks:\n\u001b[0;32m--> 117\u001b[0m         \u001b[43mblock\u001b[49m\u001b[38;5;241;43m.\u001b[39;49m\u001b[43minterpolate_bads\u001b[49m\u001b[43m(\u001b[49m\u001b[43m)\u001b[49m\n\u001b[1;32m    119\u001b[0m     \u001b[38;5;66;03m# Merge the blocks\u001b[39;00m\n\u001b[1;32m    120\u001b[0m     raw \u001b[38;5;241m=\u001b[39m mne\u001b[38;5;241m.\u001b[39mconcatenate_raws(blocks)\n",
      "File \u001b[0;32m<decorator-gen-56>:12\u001b[0m, in \u001b[0;36minterpolate_bads\u001b[0;34m(self, reset_bads, mode, origin, method, exclude, verbose)\u001b[0m\n",
      "File \u001b[0;32m~/git/uni/eeg-chord-oddball/venv/lib/python3.11/site-packages/mne/channels/channels.py:823\u001b[0m, in \u001b[0;36mInterpolationMixin.interpolate_bads\u001b[0;34m(self, reset_bads, mode, origin, method, exclude, verbose)\u001b[0m\n\u001b[1;32m    821\u001b[0m     \u001b[38;5;28;01mreturn\u001b[39;00m \u001b[38;5;28mself\u001b[39m\n\u001b[1;32m    822\u001b[0m logger\u001b[38;5;241m.\u001b[39minfo(\u001b[38;5;124m\"\u001b[39m\u001b[38;5;124mInterpolating bad channels\u001b[39m\u001b[38;5;124m\"\u001b[39m)\n\u001b[0;32m--> 823\u001b[0m origin \u001b[38;5;241m=\u001b[39m \u001b[43m_check_origin\u001b[49m\u001b[43m(\u001b[49m\u001b[43morigin\u001b[49m\u001b[43m,\u001b[49m\u001b[43m \u001b[49m\u001b[38;5;28;43mself\u001b[39;49m\u001b[38;5;241;43m.\u001b[39;49m\u001b[43minfo\u001b[49m\u001b[43m)\u001b[49m\n\u001b[1;32m    824\u001b[0m \u001b[38;5;28;01mif\u001b[39;00m method[\u001b[38;5;124m\"\u001b[39m\u001b[38;5;124meeg\u001b[39m\u001b[38;5;124m\"\u001b[39m] \u001b[38;5;241m==\u001b[39m \u001b[38;5;124m\"\u001b[39m\u001b[38;5;124mspline\u001b[39m\u001b[38;5;124m\"\u001b[39m:\n\u001b[1;32m    825\u001b[0m     _interpolate_bads_eeg(\u001b[38;5;28mself\u001b[39m, origin\u001b[38;5;241m=\u001b[39morigin, exclude\u001b[38;5;241m=\u001b[39mexclude)\n",
      "File \u001b[0;32m~/git/uni/eeg-chord-oddball/venv/lib/python3.11/site-packages/mne/bem.py:1162\u001b[0m, in \u001b[0;36m_check_origin\u001b[0;34m(origin, info, coord_frame, disp)\u001b[0m\n\u001b[1;32m   1158\u001b[0m     \u001b[38;5;28;01mraise\u001b[39;00m \u001b[38;5;167;01mValueError\u001b[39;00m(\n\u001b[1;32m   1159\u001b[0m         \u001b[38;5;124m'\u001b[39m\u001b[38;5;124morigin must be a numerical array, or \u001b[39m\u001b[38;5;124m\"\u001b[39m\u001b[38;5;124mauto\u001b[39m\u001b[38;5;124m\"\u001b[39m\u001b[38;5;124m, \u001b[39m\u001b[38;5;124m'\u001b[39m \u001b[38;5;124m\"\u001b[39m\u001b[38;5;124mnot \u001b[39m\u001b[38;5;132;01m%s\u001b[39;00m\u001b[38;5;124m\"\u001b[39m \u001b[38;5;241m%\u001b[39m (origin,)\n\u001b[1;32m   1160\u001b[0m     )\n\u001b[1;32m   1161\u001b[0m \u001b[38;5;28;01mif\u001b[39;00m coord_frame \u001b[38;5;241m==\u001b[39m \u001b[38;5;124m\"\u001b[39m\u001b[38;5;124mhead\u001b[39m\u001b[38;5;124m\"\u001b[39m:\n\u001b[0;32m-> 1162\u001b[0m     R, origin \u001b[38;5;241m=\u001b[39m \u001b[43mfit_sphere_to_headshape\u001b[49m\u001b[43m(\u001b[49m\n\u001b[1;32m   1163\u001b[0m \u001b[43m        \u001b[49m\u001b[43minfo\u001b[49m\u001b[43m,\u001b[49m\u001b[43m \u001b[49m\u001b[43mverbose\u001b[49m\u001b[38;5;241;43m=\u001b[39;49m\u001b[43m_verbose_safe_false\u001b[49m\u001b[43m(\u001b[49m\u001b[43m)\u001b[49m\u001b[43m,\u001b[49m\u001b[43m \u001b[49m\u001b[43munits\u001b[49m\u001b[38;5;241;43m=\u001b[39;49m\u001b[38;5;124;43m\"\u001b[39;49m\u001b[38;5;124;43mm\u001b[39;49m\u001b[38;5;124;43m\"\u001b[39;49m\n\u001b[1;32m   1164\u001b[0m \u001b[43m    \u001b[49m\u001b[43m)\u001b[49m[:\u001b[38;5;241m2\u001b[39m]\n\u001b[1;32m   1165\u001b[0m     logger\u001b[38;5;241m.\u001b[39minfo(\n\u001b[1;32m   1166\u001b[0m         \u001b[38;5;124m\"\u001b[39m\u001b[38;5;124m    Automatic origin fit: head of radius \u001b[39m\u001b[38;5;132;01m%0.1f\u001b[39;00m\u001b[38;5;124m mm\u001b[39m\u001b[38;5;124m\"\u001b[39m \u001b[38;5;241m%\u001b[39m (R \u001b[38;5;241m*\u001b[39m \u001b[38;5;241m1000.0\u001b[39m,)\n\u001b[1;32m   1167\u001b[0m     )\n\u001b[1;32m   1168\u001b[0m     \u001b[38;5;28;01mdel\u001b[39;00m R\n",
      "File \u001b[0;32m<decorator-gen-75>:10\u001b[0m, in \u001b[0;36mfit_sphere_to_headshape\u001b[0;34m(info, dig_kinds, units, verbose)\u001b[0m\n",
      "File \u001b[0;32m~/git/uni/eeg-chord-oddball/venv/lib/python3.11/site-packages/mne/bem.py:998\u001b[0m, in \u001b[0;36mfit_sphere_to_headshape\u001b[0;34m(info, dig_kinds, units, verbose)\u001b[0m\n\u001b[1;32m    996\u001b[0m \u001b[38;5;28;01mif\u001b[39;00m \u001b[38;5;129;01mnot\u001b[39;00m \u001b[38;5;28misinstance\u001b[39m(units, \u001b[38;5;28mstr\u001b[39m) \u001b[38;5;129;01mor\u001b[39;00m units \u001b[38;5;129;01mnot\u001b[39;00m \u001b[38;5;129;01min\u001b[39;00m (\u001b[38;5;124m\"\u001b[39m\u001b[38;5;124mm\u001b[39m\u001b[38;5;124m\"\u001b[39m, \u001b[38;5;124m\"\u001b[39m\u001b[38;5;124mmm\u001b[39m\u001b[38;5;124m\"\u001b[39m):\n\u001b[1;32m    997\u001b[0m     \u001b[38;5;28;01mraise\u001b[39;00m \u001b[38;5;167;01mValueError\u001b[39;00m(\u001b[38;5;124m'\u001b[39m\u001b[38;5;124munits must be a \u001b[39m\u001b[38;5;124m\"\u001b[39m\u001b[38;5;124mm\u001b[39m\u001b[38;5;124m\"\u001b[39m\u001b[38;5;124m or \u001b[39m\u001b[38;5;124m\"\u001b[39m\u001b[38;5;124mmm\u001b[39m\u001b[38;5;124m\"\u001b[39m\u001b[38;5;124m'\u001b[39m)\n\u001b[0;32m--> 998\u001b[0m radius, origin_head, origin_device \u001b[38;5;241m=\u001b[39m \u001b[43m_fit_sphere_to_headshape\u001b[49m\u001b[43m(\u001b[49m\u001b[43minfo\u001b[49m\u001b[43m,\u001b[49m\u001b[43m \u001b[49m\u001b[43mdig_kinds\u001b[49m\u001b[43m)\u001b[49m\n\u001b[1;32m    999\u001b[0m \u001b[38;5;28;01mif\u001b[39;00m units \u001b[38;5;241m==\u001b[39m \u001b[38;5;124m\"\u001b[39m\u001b[38;5;124mmm\u001b[39m\u001b[38;5;124m\"\u001b[39m:\n\u001b[1;32m   1000\u001b[0m     radius \u001b[38;5;241m*\u001b[39m\u001b[38;5;241m=\u001b[39m \u001b[38;5;241m1e3\u001b[39m\n",
      "File \u001b[0;32m<decorator-gen-77>:12\u001b[0m, in \u001b[0;36m_fit_sphere_to_headshape\u001b[0;34m(info, dig_kinds, verbose)\u001b[0m\n",
      "File \u001b[0;32m~/git/uni/eeg-chord-oddball/venv/lib/python3.11/site-packages/mne/bem.py:1091\u001b[0m, in \u001b[0;36m_fit_sphere_to_headshape\u001b[0;34m(info, dig_kinds, verbose)\u001b[0m\n\u001b[1;32m   1088\u001b[0m \u001b[38;5;129m@verbose\u001b[39m\n\u001b[1;32m   1089\u001b[0m \u001b[38;5;28;01mdef\u001b[39;00m \u001b[38;5;21m_fit_sphere_to_headshape\u001b[39m(info, dig_kinds, verbose\u001b[38;5;241m=\u001b[39m\u001b[38;5;28;01mNone\u001b[39;00m):\n\u001b[1;32m   1090\u001b[0m \u001b[38;5;250m    \u001b[39m\u001b[38;5;124;03m\"\"\"Fit a sphere to the given head shape.\"\"\"\u001b[39;00m\n\u001b[0;32m-> 1091\u001b[0m     hsp \u001b[38;5;241m=\u001b[39m \u001b[43mget_fitting_dig\u001b[49m\u001b[43m(\u001b[49m\u001b[43minfo\u001b[49m\u001b[43m,\u001b[49m\u001b[43m \u001b[49m\u001b[43mdig_kinds\u001b[49m\u001b[43m)\u001b[49m\n\u001b[1;32m   1092\u001b[0m     radius, origin_head \u001b[38;5;241m=\u001b[39m _fit_sphere(np\u001b[38;5;241m.\u001b[39marray(hsp), disp\u001b[38;5;241m=\u001b[39m\u001b[38;5;28;01mFalse\u001b[39;00m)\n\u001b[1;32m   1093\u001b[0m     \u001b[38;5;66;03m# compute origin in device coordinates\u001b[39;00m\n",
      "File \u001b[0;32m<decorator-gen-76>:12\u001b[0m, in \u001b[0;36mget_fitting_dig\u001b[0;34m(info, dig_kinds, exclude_frontal, verbose)\u001b[0m\n",
      "File \u001b[0;32m~/git/uni/eeg-chord-oddball/venv/lib/python3.11/site-packages/mne/bem.py:1044\u001b[0m, in \u001b[0;36mget_fitting_dig\u001b[0;34m(info, dig_kinds, exclude_frontal, verbose)\u001b[0m\n\u001b[1;32m   1042\u001b[0m     \u001b[38;5;28;01mexcept\u001b[39;00m \u001b[38;5;167;01mValueError\u001b[39;00m:\n\u001b[1;32m   1043\u001b[0m         \u001b[38;5;28;01mpass\u001b[39;00m\n\u001b[0;32m-> 1044\u001b[0m     \u001b[38;5;28;01mreturn\u001b[39;00m \u001b[43mget_fitting_dig\u001b[49m\u001b[43m(\u001b[49m\u001b[43minfo\u001b[49m\u001b[43m,\u001b[49m\u001b[43m \u001b[49m\u001b[43m(\u001b[49m\u001b[38;5;124;43m\"\u001b[39;49m\u001b[38;5;124;43mextra\u001b[39;49m\u001b[38;5;124;43m\"\u001b[39;49m\u001b[43m,\u001b[49m\u001b[43m \u001b[49m\u001b[38;5;124;43m\"\u001b[39;49m\u001b[38;5;124;43meeg\u001b[39;49m\u001b[38;5;124;43m\"\u001b[39;49m\u001b[43m)\u001b[49m\u001b[43m)\u001b[49m\n\u001b[1;32m   1045\u001b[0m \u001b[38;5;28;01melse\u001b[39;00m:\n\u001b[1;32m   1046\u001b[0m     dig_kinds \u001b[38;5;241m=\u001b[39m (dig_kinds,)\n",
      "File \u001b[0;32m<decorator-gen-76>:12\u001b[0m, in \u001b[0;36mget_fitting_dig\u001b[0;34m(info, dig_kinds, exclude_frontal, verbose)\u001b[0m\n",
      "File \u001b[0;32m~/git/uni/eeg-chord-oddball/venv/lib/python3.11/site-packages/mne/bem.py:1060\u001b[0m, in \u001b[0;36mget_fitting_dig\u001b[0;34m(info, dig_kinds, exclude_frontal, verbose)\u001b[0m\n\u001b[1;32m   1058\u001b[0m dig \u001b[38;5;241m=\u001b[39m [p \u001b[38;5;28;01mfor\u001b[39;00m p \u001b[38;5;129;01min\u001b[39;00m info[\u001b[38;5;124m\"\u001b[39m\u001b[38;5;124mdig\u001b[39m\u001b[38;5;124m\"\u001b[39m] \u001b[38;5;28;01mif\u001b[39;00m p[\u001b[38;5;124m\"\u001b[39m\u001b[38;5;124mkind\u001b[39m\u001b[38;5;124m\"\u001b[39m] \u001b[38;5;129;01min\u001b[39;00m dig_kinds]\n\u001b[1;32m   1059\u001b[0m \u001b[38;5;28;01mif\u001b[39;00m \u001b[38;5;28mlen\u001b[39m(dig) \u001b[38;5;241m==\u001b[39m \u001b[38;5;241m0\u001b[39m:\n\u001b[0;32m-> 1060\u001b[0m     \u001b[38;5;28;01mraise\u001b[39;00m \u001b[38;5;167;01mValueError\u001b[39;00m(\u001b[38;5;124mf\u001b[39m\u001b[38;5;124m\"\u001b[39m\u001b[38;5;124mNo digitization points found for dig_kinds=\u001b[39m\u001b[38;5;132;01m{\u001b[39;00mdig_kinds\u001b[38;5;132;01m}\u001b[39;00m\u001b[38;5;124m\"\u001b[39m)\n\u001b[1;32m   1061\u001b[0m \u001b[38;5;28;01mif\u001b[39;00m \u001b[38;5;28many\u001b[39m(p[\u001b[38;5;124m\"\u001b[39m\u001b[38;5;124mcoord_frame\u001b[39m\u001b[38;5;124m\"\u001b[39m] \u001b[38;5;241m!=\u001b[39m FIFF\u001b[38;5;241m.\u001b[39mFIFFV_COORD_HEAD \u001b[38;5;28;01mfor\u001b[39;00m p \u001b[38;5;129;01min\u001b[39;00m dig):\n\u001b[1;32m   1062\u001b[0m     \u001b[38;5;28;01mraise\u001b[39;00m \u001b[38;5;167;01mRuntimeError\u001b[39;00m(\n\u001b[1;32m   1063\u001b[0m         \u001b[38;5;124mf\u001b[39m\u001b[38;5;124m\"\u001b[39m\u001b[38;5;124mDigitization points dig_kinds=\u001b[39m\u001b[38;5;132;01m{\u001b[39;00mdig_kinds\u001b[38;5;132;01m}\u001b[39;00m\u001b[38;5;124m not in head \u001b[39m\u001b[38;5;124m\"\u001b[39m\n\u001b[1;32m   1064\u001b[0m         \u001b[38;5;124m\"\u001b[39m\u001b[38;5;124mcoordinates, contact mne-python developers\u001b[39m\u001b[38;5;124m\"\u001b[39m\n\u001b[1;32m   1065\u001b[0m     )\n",
      "\u001b[0;31mValueError\u001b[0m: No digitization points found for dig_kinds=[4 (FIFFV_POINT_EXTRA), 3 (FIFFV_POINT_EEG)]"
     ]
    }
   ],
   "source": [
    "# reduce bids eeg data\n",
    "if not os.path.isfile(f\"./data/processed_{SUBJECT}_raw.fif\"):\n",
    "    blocks = split_in_blocks(raw.copy())\n",
    "\n",
    "    if os.path.isfile(\"./data/bad_channels.json\"):\n",
    "        bads = json.load(open(\"./data/bad_channels.json\"))\n",
    "    else:\n",
    "        bads = create_bad_json_structure()\n",
    "\n",
    "    for b in blocks:\n",
    "        b.plot()\n",
    "        plt.show(block=True)\n",
    "        bads[int(SUBJECT)][blocks.index(b)] = b.info['bads']\n",
    "\n",
    "    interpol_raw = interpolate_bads_and_merge(blocks)\n",
    "    prep_raw = preprocessing(interpol_raw.copy())\n",
    "    save_preprocessed_data(f\"./data/processed_{SUBJECT}_raw.fif\", prep_raw)\n",
    "\n",
    "else:\n",
    "    prep_raw = mne.io.read_raw_fif(f\"./data/processed_{SUBJECT}_raw.fif\", preload=True)"
   ]
  },
  {
   "cell_type": "code",
   "execution_count": null,
   "metadata": {},
   "outputs": [],
   "source": [
    "series = prep_raw[0,:]\n",
    "#print(series[0][0])\n",
    "plt.plot(series[0][0])\n",
    "plt.show()\n",
    "plt.plot(series[0][0])\n",
    "plt.show()"
   ]
  },
  {
   "cell_type": "markdown",
   "metadata": {},
   "source": [
    "## Epochs"
   ]
  },
  {
   "cell_type": "code",
   "execution_count": null,
   "metadata": {},
   "outputs": [
    {
     "data": {
      "text/plain": [
       "<Annotations | 3969 segments: BAD boundary (6), EDGE boundary (6), ...>"
      ]
     },
     "execution_count": 118,
     "metadata": {},
     "output_type": "execute_result"
    }
   ],
   "source": [
    "# test with some electrodes\n",
    "\n",
    "raw_subselect = prep_raw.copy().pick([\"Cz\", \"T7\", \"T8\", \"P3\", \"P4\"])\n",
    "raw_subselect.annotations"
   ]
  },
  {
   "cell_type": "code",
   "execution_count": null,
   "metadata": {},
   "outputs": [
    {
     "name": "stdout",
     "output_type": "stream",
     "text": [
      "Used Annotations descriptions: ['STATUS:16128', 'STATUS:Correct - Exemplar!', 'STATUS:Correct - Function!', 'STATUS:Incorrect - Standard!', 'STATUS:boundary', 'STATUS:five6_S', 'STATUS:five6_deviantE', 'STATUS:five6_deviantEcorrect_E', 'STATUS:five6_deviantF', 'STATUS:five6_deviantFcorrect_F', 'STATUS:fiveRoot_S', 'STATUS:fiveRoot_deviantE', 'STATUS:fiveRoot_deviantEcorrect_E', 'STATUS:fiveRoot_deviantF', 'STATUS:fiveRoot_deviantFcorrect_F', 'STATUS:four6_S', 'STATUS:four6_Sincorrect', 'STATUS:four6_deviantE', 'STATUS:four6_deviantEcorrect_E', 'STATUS:four6_deviantF', 'STATUS:four6_deviantFcorrect_F', 'STATUS:fourRoot_S', 'STATUS:fourRoot_Sincorrect', 'STATUS:fourRoot_deviantE', 'STATUS:fourRoot_deviantEcorrect_E', 'STATUS:fourRoot_deviantF', 'STATUS:fourRoot_deviantFcorrect_F', 'STATUS:one', 'STATUS:two']\n",
      "{'STATUS:five6_deviantE': 7, 'STATUS:five6_deviantEcorrect_E': 8, 'STATUS:five6_deviantF': 9, 'STATUS:five6_deviantFcorrect_F': 10, 'STATUS:fiveRoot_deviantE': 12, 'STATUS:fiveRoot_deviantEcorrect_E': 13, 'STATUS:fiveRoot_deviantF': 14, 'STATUS:fiveRoot_deviantFcorrect_F': 15, 'STATUS:four6_deviantE': 18, 'STATUS:four6_deviantEcorrect_E': 19, 'STATUS:four6_deviantF': 20, 'STATUS:four6_deviantFcorrect_F': 21, 'STATUS:fourRoot_deviantE': 24, 'STATUS:fourRoot_deviantEcorrect_E': 25, 'STATUS:fourRoot_deviantF': 26, 'STATUS:fourRoot_deviantFcorrect_F': 27}\n"
     ]
    }
   ],
   "source": [
    "# TODO: Copied from exercise 1, has to be adapted. Change selection of electrodes to electrodes near the ears? --> Cz is apparently connected to N2c\n",
    "evts,evts_dict = mne.events_from_annotations(raw_subselect)\n",
    "\n",
    "# not sure what annotations to use here\n",
    "# wanted_keys = [e for e in evts_dict.keys() if 'STATUS:two' in e]\n",
    "\n",
    "# deviant events (get all deviant events)\n",
    "deviant_keys = [e for e in evts_dict.keys() if 'deviant' in e]\n",
    "\n",
    "evts_dict_stim=dict((k, evts_dict[k]) for k in deviant_keys if k in evts_dict)\n",
    "\n",
    "print(evts_dict_stim)\n",
    "\n"
   ]
  },
  {
   "cell_type": "code",
   "execution_count": null,
   "metadata": {},
   "outputs": [
    {
     "name": "stdout",
     "output_type": "stream",
     "text": [
      "Not setting metadata\n",
      "193 matching events found\n",
      "Applying baseline correction (mode: mean)\n",
      "Created an SSP operator (subspace dimension = 1)\n",
      "1 projection items activated\n",
      "Using data from preloaded Raw for 193 events and 257 original time points ...\n",
      "0 bad epochs dropped\n"
     ]
    }
   ],
   "source": [
    "\n",
    "# 400 ms before stimulus onset, 1600 ms after stimulus onset - Stimulus 2 --> since each chord lasts 400ms --> 0s - 2000\n",
    "# maybe add baseline=(0.3,0.4) according to paper --> then no ica though? -> why?\n",
    "raw_subselect.info.normalize_proj()\n",
    "\n",
    "# EITHER use total threshold -250uV - 250uV \n",
    "reject = dict(eeg=0.0005) # in V\n",
    "epochs = mne.Epochs(raw_subselect, evts, evts_dict_stim, tmin=-0.4, tmax=1.6, baseline=(0,0.4), preload=True, reject=reject)\n",
    "\n",
    "# OR use annotations\n",
    "\"\"\" annotations, bads = prep.annotate_amplitude(raw_subselect, flat=dict(eeg=-250 * 1e-6), peak=dict(eeg=250 * 1e-6), picks=\"eeg\")\n",
    "raw_subselect.set_annotations(annotations)\n",
    "epochs = mne.Epochs(raw_subselect, evts, evts_dict_stim, tmin=-0.4, tmax=1.6, baseline=(0.3,0.4), preload=True, reject_by_annotation=True) \"\"\"\n",
    "\n",
    "\n",
    "# remove deviant epochs with reaction time under 200ms\n",
    "correct_keys = [e for e in evts_dict.keys() if 'correct' in e]\n",
    "correct_evt_ids = [evts_dict[key] for key in correct_keys]\n",
    "\n",
    "# get all event times\n",
    "event_times = epochs.events[:, 0] / epochs.info['sfreq']\n",
    "\n",
    "# if a correct event exists less than 600ms in the epoch (epochs starts 400ms before deviant + 200ms reactiontime), remove deviant event\n",
    "epochs_to_remove = []\n",
    "for i in range(len(event_times) - 1):\n",
    "    current_time = event_times[i]\n",
    "    next_time = event_times[i + 1]\n",
    "\n",
    "    # Check if the next event is a correct one and within 600ms\n",
    "    if (epochs.events[i + 1, 2] in correct_evt_ids and \n",
    "        (next_time - current_time) < 0.6):\n",
    "        epochs_to_remove.append(i)\n",
    "\n",
    "\n",
    "# Remove the epochs with unrealistic (<200ms) reaction time\n",
    "epochs_to_keep = [i for i in range(len(epochs)) if i not in epochs_to_remove]\n",
    "epochs = epochs[epochs_to_keep]\n",
    "\n",
    "# TODO: ICA vor oder nach Epoching?\n",
    "ica = get_ica(prep_raw)\n",
    "#ica = get_ica(epochs)\n",
    "\n",
    "# extract data from epochs object\n",
    "data = epochs.get_data()\n",
    "times = epochs.times\n",
    "\n",
    "n_trials = 3 # use data.shape[0] for all\n",
    "fig, axs = plt.subplots(n_trials, 1, figsize=(10, 3*n_trials), sharex=True, sharey=True)\n",
    "\n",
    "# plot selected trials\n",
    "for i in range(n_trials):\n",
    "    for ch in range(data.shape[1]):\n",
    "        axs[i].plot(times, data[i, ch, :], label=f'Channel {ch}')\n",
    "    axs[i].set_title(f'Trial {i}')\n",
    "    axs[i].legend(loc='upper right')\n",
    "\n",
    "# label the x-axis\n",
    "plt.xlabel('Time (s)')\n",
    "\n",
    "# display the plot\n",
    "plt.show()\n",
    "\n"
   ]
  },
  {
   "cell_type": "code",
   "execution_count": null,
   "metadata": {},
   "outputs": [
    {
     "name": "stdout",
     "output_type": "stream",
     "text": [
      "len after:  24024915\n"
     ]
    }
   ],
   "source": [
    "epochs_concat = np.array(epochs)\n",
    "concat = []\n",
    "epochs_concat_removed = []\n",
    "removed = 0\n",
    "\n",
    "for index, epoch in enumerate(epochs_concat[:]):\n",
    "    for channel in epoch:\n",
    "        concat = np.concatenate((concat, channel))\n",
    "    mean_concat = np.mean(concat)\n",
    "    std_concat = np.std(concat)\n",
    "    for signal in concat:\n",
    "        if(signal > mean_concat - (5 * std_concat) and signal < mean_concat + (5 * std_concat) or signal < (-250 * 1e-6) or signal > (250 * 1e-6)):\n",
    "            epochs_concat_removed.append(signal)\n",
    "\n",
    "print(\"len after: \", len(epochs_concat_removed))"
   ]
  },
  {
   "cell_type": "code",
   "execution_count": null,
   "metadata": {},
   "outputs": [
    {
     "name": "stdout",
     "output_type": "stream",
     "text": [
      "len prior:  193\n",
      "remove  -5.9523672294814104e-05\n",
      "remove  -5.781054439996942e-05\n",
      "len after:  191\n"
     ]
    }
   ],
   "source": [
    "epochs_channel = np.array(epochs)\n",
    "print(\"len prior: \", len(epochs_channel))\n",
    "\n",
    "for index, epoch in enumerate(epochs_channel):\n",
    "    for channel in epoch:\n",
    "        mean_channel = np.mean(channel)\n",
    "        std_channel = np.std(channel)\n",
    "        for signal in channel:\n",
    "            if(signal < mean_channel - (5 * std_channel) or signal > mean_channel + (5 * std_channel) or signal < (-250 * 1e-6) or signal > (250 * 1e-6)):\n",
    "                print(\"remove \", signal)\n",
    "                epochs_channel = np.delete(epochs_channel, index, 0)\n",
    "\n",
    "print(\"len after: \", len(epochs_channel))"
   ]
  }
 ],
 "metadata": {
  "kernelspec": {
   "display_name": ".venv",
   "language": "python",
   "name": "python3"
  },
  "language_info": {
   "codemirror_mode": {
    "name": "ipython",
    "version": 3
   },
   "file_extension": ".py",
   "mimetype": "text/x-python",
   "name": "python",
   "nbconvert_exporter": "python",
   "pygments_lexer": "ipython3",
   "version": "3.10.1"
  }
 },
 "nbformat": 4,
 "nbformat_minor": 2
}
