{
 "cells": [
  {
   "cell_type": "markdown",
   "metadata": {},
   "source": [
    "# Reducing and Filtering of Chord-Oddball data"
   ]
  },
  {
   "cell_type": "code",
   "execution_count": 48,
   "metadata": {},
   "outputs": [],
   "source": [
    "import mne\n",
    "import matplotlib.pyplot as plt\n",
    "import sys\n",
    "sys.path.insert(1, \"../\")\n",
    "import ccs_eeg_utils\n",
    "import numpy as np\n",
    "import mne.preprocessing as prep\n",
    "import os\n",
    "from contextlib import contextmanager\n",
    "\n",
    "from mne_bids import (BIDSPath, read_raw_bids, write_raw_bids)\n",
    "\n",
    "# path where dataset is stored\n",
    "bids_root = \"./data/ds003570/\"\n",
    "TASK = 'AuditoryOddballChords'\n",
    "SUBJECT = '014'\n",
    "SUPRESS_BIDS_OUTPUT = True"
   ]
  },
  {
   "cell_type": "code",
   "execution_count": 41,
   "metadata": {},
   "outputs": [],
   "source": [
    "# Context manager to suppress stdout and stderr\n",
    "@contextmanager\n",
    "def suppress_stdout_stderr():\n",
    "    with open(os.devnull, 'w') as devnull:\n",
    "        old_stdout = sys.stdout\n",
    "        old_stderr = sys.stderr\n",
    "        sys.stdout = devnull\n",
    "        sys.stderr = devnull\n",
    "        try:\n",
    "            yield\n",
    "        finally:\n",
    "            sys.stdout = old_stdout\n",
    "            sys.stderr = old_stderr\n",
    "\n",
    "def read_raw_data(subject_id):\n",
    "    bids_path = BIDSPath(subject=subject_id,\n",
    "                         datatype='eeg', suffix='eeg', task=TASK,\n",
    "                         root=bids_root)\n",
    "\n",
    "    if SUPRESS_BIDS_OUTPUT:\n",
    "        with suppress_stdout_stderr():\n",
    "            raw = read_raw_bids(bids_path)\n",
    "    else:\n",
    "        raw = read_raw_bids(bids_path)\n",
    "\n",
    "    # Inplace?\n",
    "    ccs_eeg_utils.read_annotations_core(bids_path,raw)\n",
    "    \n",
    "\n",
    "    return raw\n",
    "\n",
    "\n",
    "def preprocessing(raw, bad_channels = []):\n",
    "    # TODO: bandpass first, downsample later? -> expensive!\n",
    "    # 1. Downsampling to 64 Hz\n",
    "    if raw.info['sfreq'] > 64:\n",
    "        raw.resample(64)\n",
    "\n",
    "    # Set channel types to EEG if not already set\n",
    "    if not all(ch_type in ['eeg', 'stim'] for ch_type in raw.get_channel_types()):\n",
    "        eeg_channel_names = raw.ch_names\n",
    "        channel_types = {name: 'eeg' for name in eeg_channel_names}\n",
    "        raw.set_channel_types(channel_types)\n",
    "\n",
    "    # 2. Band-pass filter between 0.5 Hz and 30 Hz\n",
    "    raw.filter(0.5, 30, fir_design='firwin')\n",
    "\n",
    "    # 3. Re-referencing to the average activity of all electrodes\n",
    "    raw.set_eeg_reference('average', projection=True)\n",
    "\n",
    "    # 4. Bad Channel Interpolations\n",
    "    # Manually mark some channels as bad\n",
    "    if bad_channels:\n",
    "        raw.info['bads'] = bad_channels\n",
    "    # Interpolate bad channels\n",
    "    raw.interpolate_bads()\n",
    "\n",
    "    # 5. Data Reduction (optional)\n",
    "    # For instance, crop the first 60 seconds of the data\n",
    "\n",
    "    return raw\n",
    "\n",
    "\n",
    "def save_preprocessed_data(file_path, raw):\n",
    "    \"\"\"\n",
    "    Saves the preprocessed EEG data to a file.\n",
    "\n",
    "    Parameters:\n",
    "    file_path (str): The path where the preprocessed data will be saved.\n",
    "    raw (mne.io.Raw): The preprocessed MNE Raw object containing EEG data.\n",
    "    \"\"\"\n",
    "    # Check if file_path ends with .fif extension\n",
    "    if not file_path.endswith('.fif'):\n",
    "        file_path += '.fif'\n",
    "\n",
    "    # Save the data\n",
    "    try:\n",
    "        raw.save(file_path, overwrite=True)\n",
    "        print(f\"Data saved successfully to {file_path}\")\n",
    "    except Exception as e:\n",
    "        print(f\"Error saving data: {e}\")\n"
   ]
  },
  {
   "cell_type": "code",
   "execution_count": 36,
   "metadata": {},
   "outputs": [
    {
     "data": {
      "text/html": [
       "<table class=\"table table-hover table-striped table-sm table-responsive small\">\n",
       "    <tr>\n",
       "        <th>Measurement date</th>\n",
       "        \n",
       "        <td>Unknown</td>\n",
       "        \n",
       "    </tr>\n",
       "    <tr>\n",
       "        <th>Experimenter</th>\n",
       "        \n",
       "        <td>Unknown</td>\n",
       "        \n",
       "    </tr>\n",
       "        <th>Participant</th>\n",
       "        \n",
       "            \n",
       "            <td>sub-014</td>\n",
       "            \n",
       "        \n",
       "    </tr>\n",
       "    <tr>\n",
       "        <th>Digitized points</th>\n",
       "        \n",
       "        <td>3 points</td>\n",
       "        \n",
       "    </tr>\n",
       "    <tr>\n",
       "        <th>Good channels</th>\n",
       "        <td>64 misc</td>\n",
       "    </tr>\n",
       "    <tr>\n",
       "        <th>Bad channels</th>\n",
       "        <td>None</td>\n",
       "    </tr>\n",
       "    <tr>\n",
       "        <th>EOG channels</th>\n",
       "        <td>Not available</td>\n",
       "    </tr>\n",
       "    <tr>\n",
       "        <th>ECG channels</th>\n",
       "        <td>Not available</td>\n",
       "    \n",
       "    <tr>\n",
       "        <th>Sampling frequency</th>\n",
       "        <td>2048.00 Hz</td>\n",
       "    </tr>\n",
       "    \n",
       "    \n",
       "    <tr>\n",
       "        <th>Highpass</th>\n",
       "        <td>0.00 Hz</td>\n",
       "    </tr>\n",
       "    \n",
       "    \n",
       "    <tr>\n",
       "        <th>Lowpass</th>\n",
       "        <td>1024.00 Hz</td>\n",
       "    </tr>\n",
       "    \n",
       "    \n",
       "</table>"
      ],
      "text/plain": [
       "<Info | 10 non-empty values\n",
       " bads: []\n",
       " ch_names: Fp1, AF7, AF3, F1, F3, F5, F7, FT7, FC5, FC3, FC1, C1, C3, C5, ...\n",
       " chs: 64 misc\n",
       " custom_ref_applied: False\n",
       " dig: 3 items (3 Cardinal)\n",
       " highpass: 0.0 Hz\n",
       " line_freq: 60.0\n",
       " lowpass: 1024.0 Hz\n",
       " meas_date: unspecified\n",
       " nchan: 64\n",
       " projs: []\n",
       " sfreq: 2048.0 Hz\n",
       " subject_info: 5 items (dict)\n",
       ">"
      ]
     },
     "execution_count": 36,
     "metadata": {},
     "output_type": "execute_result"
    }
   ],
   "source": [
    "raw = read_raw_data(SUBJECT)\n",
    "\n",
    "raw.info"
   ]
  },
  {
   "cell_type": "code",
   "execution_count": 42,
   "metadata": {},
   "outputs": [
    {
     "name": "stdout",
     "output_type": "stream",
     "text": [
      "Filtering raw data in 1 contiguous segment\n",
      "Setting up band-pass filter from 0.5 - 30 Hz\n",
      "\n",
      "FIR filter parameters\n",
      "---------------------\n",
      "Designing a one-pass, zero-phase, non-causal bandpass filter:\n",
      "- Windowed time-domain design (firwin) method\n",
      "- Hamming window with 0.0194 passband ripple and 53 dB stopband attenuation\n",
      "- Lower passband edge: 0.50\n",
      "- Lower transition bandwidth: 0.50 Hz (-6 dB cutoff frequency: 0.25 Hz)\n",
      "- Upper passband edge: 30.00 Hz\n",
      "- Upper transition bandwidth: 2.00 Hz (-6 dB cutoff frequency: 31.00 Hz)\n",
      "- Filter length: 423 samples (6.609 s)\n",
      "\n"
     ]
    },
    {
     "name": "stderr",
     "output_type": "stream",
     "text": [
      "/tmp/ipykernel_34337/4271023917.py:42: RuntimeWarning: The unit for channel(s) AF3, AF4, AF7, AF8, Afz, C1, C2, C3, C4, C5, C6, CP1, CP2, CP3, CP4, CP5, CP6, CPz, Cz, F1, F2, F3, F4, F5, F6, F7, F8, FC1, FC2, FC3, FC4, FC5, FC6, FCz, FT7, FT8, Fp1, Fp2, Fpz, Fz, Iz, O1, O2, Oz, P1, P10, P2, P3, P4, P5, P6, P7, P8, P9, PO3, PO4, PO7, PO8, POz, Pz, T7, T8, TP7, TP8 has changed from NA to V.\n",
      "  raw.set_channel_types(channel_types)\n"
     ]
    },
    {
     "name": "stdout",
     "output_type": "stream",
     "text": [
      "EEG channel type selected for re-referencing\n",
      "Adding average EEG reference projection.\n",
      "1 projection items deactivated\n",
      "Average reference projection was added, but has not been applied yet. Use the apply_proj method to apply it.\n"
     ]
    },
    {
     "name": "stderr",
     "output_type": "stream",
     "text": [
      "/tmp/ipykernel_34337/4271023917.py:57: RuntimeWarning: No bad channels to interpolate. Doing nothing...\n",
      "  raw.interpolate_bads()\n"
     ]
    }
   ],
   "source": [
    "# reduce bids eeg data\n",
    "prep_raw = preprocessing(raw.copy())"
   ]
  },
  {
   "cell_type": "code",
   "execution_count": 54,
   "metadata": {},
   "outputs": [
    {
     "name": "stdout",
     "output_type": "stream",
     "text": [
      "Overwriting existing file.\n",
      "Writing /home/linus/git/uni/eeg-chord-oddball/data/processed_subject014.fif\n"
     ]
    },
    {
     "name": "stderr",
     "output_type": "stream",
     "text": [
      "/tmp/ipykernel_34337/4271023917.py:79: RuntimeWarning: This filename (/home/linus/git/uni/eeg-chord-oddball/data/processed_subject014.fif) does not conform to MNE naming conventions. All raw files should end with raw.fif, raw_sss.fif, raw_tsss.fif, _meg.fif, _eeg.fif, _ieeg.fif, raw.fif.gz, raw_sss.fif.gz, raw_tsss.fif.gz, _meg.fif.gz, _eeg.fif.gz or _ieeg.fif.gz\n",
      "  raw.save(file_path, overwrite=True)\n"
     ]
    },
    {
     "name": "stdout",
     "output_type": "stream",
     "text": [
      "Closing /home/linus/git/uni/eeg-chord-oddball/data/processed_subject014.fif\n",
      "[done]\n",
      "Data saved successfully to ./data/processed_subject014.fif\n"
     ]
    }
   ],
   "source": [
    "# save preprocessed data\n",
    "save_path = f'./data/processed_subject{SUBJECT}.fif'\n",
    "save_preprocessed_data(save_path, prep_raw)"
   ]
  },
  {
   "cell_type": "code",
   "execution_count": 57,
   "metadata": {},
   "outputs": [
    {
     "data": {
      "image/png": "[encoded data removed]",
      "text/plain": [
       "<Figure size 640x480 with 1 Axes>"
      ]
     },
     "metadata": {},
     "output_type": "display_data"
    },
    {
     "data": {
      "image/png": "[encoded data removed]",
      "text/plain": [
       "<Figure size 640x480 with 1 Axes>"
      ]
     },
     "metadata": {},
     "output_type": "display_data"
    }
   ],
   "source": [
    "series = prep_raw[0,:]\n",
    "#print(series[0][0])\n",
    "plt.plot(series[0][0])\n",
    "plt.show()\n",
    "plt.plot(series[0][0])\n",
    "plt.show()"
   ]
  },
  {
   "cell_type": "markdown",
   "metadata": {},
   "source": [
    "## Epochs"
   ]
  },
  {
   "cell_type": "code",
   "execution_count": 58,
   "metadata": {},
   "outputs": [
    {
     "data": {
      "text/plain": [
       "<Annotations | 4523 segments: STATUS:16128 (8), STATUS:Correct - Exemplar! ...>"
      ]
     },
     "execution_count": 58,
     "metadata": {},
     "output_type": "execute_result"
    }
   ],
   "source": [
    "# test with some electrode\n",
    "raw_subselect = prep_raw.copy().pick([\"Cz\"])\n",
    "raw_subselect.annotations"
   ]
  },
  {
   "cell_type": "code",
   "execution_count": 66,
   "metadata": {},
   "outputs": [
    {
     "name": "stdout",
     "output_type": "stream",
     "text": [
      "Used Annotations descriptions: ['STATUS:16128', 'STATUS:Correct - Exemplar!', 'STATUS:Correct - Function!', 'STATUS:Incorrect - Standard!', 'STATUS:boundary', 'STATUS:five6_S', 'STATUS:five6_deviantE', 'STATUS:five6_deviantEcorrect_E', 'STATUS:five6_deviantF', 'STATUS:five6_deviantFcorrect_F', 'STATUS:fiveRoot_S', 'STATUS:fiveRoot_deviantE', 'STATUS:fiveRoot_deviantEcorrect_E', 'STATUS:fiveRoot_deviantF', 'STATUS:fiveRoot_deviantFcorrect_F', 'STATUS:four6_S', 'STATUS:four6_Sincorrect', 'STATUS:four6_deviantE', 'STATUS:four6_deviantEcorrect_E', 'STATUS:four6_deviantF', 'STATUS:four6_deviantFcorrect_F', 'STATUS:fourRoot_S', 'STATUS:fourRoot_Sincorrect', 'STATUS:fourRoot_deviantE', 'STATUS:fourRoot_deviantEcorrect_E', 'STATUS:fourRoot_deviantF', 'STATUS:fourRoot_deviantFcorrect_F', 'STATUS:one', 'STATUS:two']\n",
      "{'STATUS:16128': 1, 'STATUS:Correct - Exemplar!': 2, 'STATUS:Correct - Function!': 3, 'STATUS:Incorrect - Standard!': 4, 'STATUS:boundary': 5, 'STATUS:five6_S': 6, 'STATUS:five6_deviantE': 7, 'STATUS:five6_deviantEcorrect_E': 8, 'STATUS:five6_deviantF': 9, 'STATUS:five6_deviantFcorrect_F': 10, 'STATUS:fiveRoot_S': 11, 'STATUS:fiveRoot_deviantE': 12, 'STATUS:fiveRoot_deviantEcorrect_E': 13, 'STATUS:fiveRoot_deviantF': 14, 'STATUS:fiveRoot_deviantFcorrect_F': 15, 'STATUS:four6_S': 16, 'STATUS:four6_Sincorrect': 17, 'STATUS:four6_deviantE': 18, 'STATUS:four6_deviantEcorrect_E': 19, 'STATUS:four6_deviantF': 20, 'STATUS:four6_deviantFcorrect_F': 21, 'STATUS:fourRoot_S': 22, 'STATUS:fourRoot_Sincorrect': 23, 'STATUS:fourRoot_deviantE': 24, 'STATUS:fourRoot_deviantEcorrect_E': 25, 'STATUS:fourRoot_deviantF': 26, 'STATUS:fourRoot_deviantFcorrect_F': 27, 'STATUS:one': 28, 'STATUS:two': 29}\n"
     ]
    }
   ],
   "source": [
    "# TODO: Copied from exercise 1, has to be adapted. Change selection of electrodes to electrodes near the ears?\n",
    "evts,evts_dict = mne.events_from_annotations(raw_subselect)\n",
    "\n",
    "# not sure what annotations to use here\n",
    "wanted_keys = [e for e in evts_dict.keys() if 'STATUS:' in e]\n",
    "\n",
    "evts_dict_stim=dict((k, evts_dict[k]) for k in wanted_keys if k in evts_dict)\n",
    "\n",
    "print(evts_dict_stim)\n",
    "\n"
   ]
  },
  {
   "cell_type": "code",
   "execution_count": 67,
   "metadata": {},
   "outputs": [
    {
     "name": "stdout",
     "output_type": "stream",
     "text": [
      "Not setting metadata\n",
      "4523 matching events found\n",
      "Setting baseline interval to [-0.40625, 0.0] s\n",
      "Applying baseline correction (mode: mean)\n"
     ]
    },
    {
     "name": "stderr",
     "output_type": "stream",
     "text": [
      "/tmp/ipykernel_34337/3104257201.py:2: RuntimeWarning: Projection vector 'Average EEG reference' has been reduced to 12.50% of its original magnitude by subselecting 1/64 of the original channels. If the ignored channels were bad during SSP computation, we recommend recomputing proj (via compute_proj_raw or related functions) with the bad channels properly marked, because computing SSP with bad channels present in the data but unmarked is dangerous (it can bias the PCA used by SSP). On the other hand, if you know that all channels were good during SSP computation, you can safely use info.normalize_proj() to suppress this warning during projection.\n",
      "  epochs = mne.Epochs(raw_subselect,evts,evts_dict_stim,tmin=-0.4,tmax=1.6)\n"
     ]
    },
    {
     "ename": "RuntimeError",
     "evalue": "Application of 1 projectors for 1 channels will yield no components.",
     "output_type": "error",
     "traceback": [
      "\u001b[0;31m---------------------------------------------------------------------------\u001b[0m",
      "\u001b[0;31mRuntimeError\u001b[0m                              Traceback (most recent call last)",
      "\u001b[1;32m/home/linus/git/uni/eeg-chord-oddball/filtering.ipynb Cell 11\u001b[0m line \u001b[0;36m2\n\u001b[1;32m      <a href='vscode-notebook-cell:/home/linus/git/uni/eeg-chord-oddball/filtering.ipynb#X20sZmlsZQ%3D%3D?line=0'>1</a>\u001b[0m \u001b[39m# 400 ms before stimulus onset, 1600 ms after stimulus onset\u001b[39;00m\n\u001b[0;32m----> <a href='vscode-notebook-cell:/home/linus/git/uni/eeg-chord-oddball/filtering.ipynb#X20sZmlsZQ%3D%3D?line=1'>2</a>\u001b[0m epochs \u001b[39m=\u001b[39m mne\u001b[39m.\u001b[39;49mEpochs(raw_subselect,evts,evts_dict_stim,tmin\u001b[39m=\u001b[39;49m\u001b[39m-\u001b[39;49m\u001b[39m0.4\u001b[39;49m,tmax\u001b[39m=\u001b[39;49m\u001b[39m1.6\u001b[39;49m)\n\u001b[1;32m      <a href='vscode-notebook-cell:/home/linus/git/uni/eeg-chord-oddball/filtering.ipynb#X20sZmlsZQ%3D%3D?line=3'>4</a>\u001b[0m \u001b[39m# extract data from epochs object\u001b[39;00m\n\u001b[1;32m      <a href='vscode-notebook-cell:/home/linus/git/uni/eeg-chord-oddball/filtering.ipynb#X20sZmlsZQ%3D%3D?line=4'>5</a>\u001b[0m data \u001b[39m=\u001b[39m epochs\u001b[39m.\u001b[39mget_data()\n",
      "File \u001b[0;32m<decorator-gen-286>:12\u001b[0m, in \u001b[0;36m__init__\u001b[0;34m(self, raw, events, event_id, tmin, tmax, baseline, picks, preload, reject, flat, proj, decim, reject_tmin, reject_tmax, detrend, on_missing, reject_by_annotation, metadata, event_repeated, verbose)\u001b[0m\n",
      "File \u001b[0;32m~/git/uni/eeg-chord-oddball/.venv/lib64/python3.12/site-packages/mne/epochs.py:3087\u001b[0m, in \u001b[0;36mEpochs.__init__\u001b[0;34m(self, raw, events, event_id, tmin, tmax, baseline, picks, preload, reject, flat, proj, decim, reject_tmin, reject_tmax, detrend, on_missing, reject_by_annotation, metadata, event_repeated, verbose)\u001b[0m\n\u001b[1;32m   3084\u001b[0m raw_sfreq \u001b[39m=\u001b[39m raw\u001b[39m.\u001b[39minfo[\u001b[39m\"\u001b[39m\u001b[39msfreq\u001b[39m\u001b[39m\"\u001b[39m]\n\u001b[1;32m   3086\u001b[0m \u001b[39m# call BaseEpochs constructor\u001b[39;00m\n\u001b[0;32m-> 3087\u001b[0m \u001b[39msuper\u001b[39;49m(Epochs, \u001b[39mself\u001b[39;49m)\u001b[39m.\u001b[39;49m\u001b[39m__init__\u001b[39;49m(\n\u001b[1;32m   3088\u001b[0m     info,\n\u001b[1;32m   3089\u001b[0m     \u001b[39mNone\u001b[39;49;00m,\n\u001b[1;32m   3090\u001b[0m     events,\n\u001b[1;32m   3091\u001b[0m     event_id,\n\u001b[1;32m   3092\u001b[0m     tmin,\n\u001b[1;32m   3093\u001b[0m     tmax,\n\u001b[1;32m   3094\u001b[0m     metadata\u001b[39m=\u001b[39;49mmetadata,\n\u001b[1;32m   3095\u001b[0m     baseline\u001b[39m=\u001b[39;49mbaseline,\n\u001b[1;32m   3096\u001b[0m     raw\u001b[39m=\u001b[39;49mraw,\n\u001b[1;32m   3097\u001b[0m     picks\u001b[39m=\u001b[39;49mpicks,\n\u001b[1;32m   3098\u001b[0m     reject\u001b[39m=\u001b[39;49mreject,\n\u001b[1;32m   3099\u001b[0m     flat\u001b[39m=\u001b[39;49mflat,\n\u001b[1;32m   3100\u001b[0m     decim\u001b[39m=\u001b[39;49mdecim,\n\u001b[1;32m   3101\u001b[0m     reject_tmin\u001b[39m=\u001b[39;49mreject_tmin,\n\u001b[1;32m   3102\u001b[0m     reject_tmax\u001b[39m=\u001b[39;49mreject_tmax,\n\u001b[1;32m   3103\u001b[0m     detrend\u001b[39m=\u001b[39;49mdetrend,\n\u001b[1;32m   3104\u001b[0m     proj\u001b[39m=\u001b[39;49mproj,\n\u001b[1;32m   3105\u001b[0m     on_missing\u001b[39m=\u001b[39;49mon_missing,\n\u001b[1;32m   3106\u001b[0m     preload_at_end\u001b[39m=\u001b[39;49mpreload,\n\u001b[1;32m   3107\u001b[0m     event_repeated\u001b[39m=\u001b[39;49mevent_repeated,\n\u001b[1;32m   3108\u001b[0m     verbose\u001b[39m=\u001b[39;49mverbose,\n\u001b[1;32m   3109\u001b[0m     raw_sfreq\u001b[39m=\u001b[39;49mraw_sfreq,\n\u001b[1;32m   3110\u001b[0m     annotations\u001b[39m=\u001b[39;49mraw\u001b[39m.\u001b[39;49mannotations,\n\u001b[1;32m   3111\u001b[0m )\n",
      "File \u001b[0;32m<decorator-gen-272>:12\u001b[0m, in \u001b[0;36m__init__\u001b[0;34m(self, info, data, events, event_id, tmin, tmax, baseline, raw, picks, reject, flat, decim, reject_tmin, reject_tmax, detrend, proj, on_missing, preload_at_end, selection, drop_log, filename, metadata, event_repeated, raw_sfreq, annotations, verbose)\u001b[0m\n",
      "File \u001b[0;32m~/git/uni/eeg-chord-oddball/.venv/lib64/python3.12/site-packages/mne/epochs.py:683\u001b[0m, in \u001b[0;36mBaseEpochs.__init__\u001b[0;34m(***failed resolving arguments***)\u001b[0m\n\u001b[1;32m    681\u001b[0m     \u001b[39mself\u001b[39m\u001b[39m.\u001b[39m_do_delayed_proj \u001b[39m=\u001b[39m \u001b[39mFalse\u001b[39;00m\n\u001b[1;32m    682\u001b[0m activate \u001b[39m=\u001b[39m \u001b[39mFalse\u001b[39;00m \u001b[39mif\u001b[39;00m \u001b[39mself\u001b[39m\u001b[39m.\u001b[39m_do_delayed_proj \u001b[39melse\u001b[39;00m proj\n\u001b[0;32m--> 683\u001b[0m \u001b[39mself\u001b[39m\u001b[39m.\u001b[39m_projector, \u001b[39mself\u001b[39m\u001b[39m.\u001b[39minfo \u001b[39m=\u001b[39m setup_proj(\u001b[39mself\u001b[39;49m\u001b[39m.\u001b[39;49minfo, \u001b[39mFalse\u001b[39;49;00m, activate\u001b[39m=\u001b[39;49mactivate)\n\u001b[1;32m    684\u001b[0m \u001b[39mif\u001b[39;00m preload_at_end:\n\u001b[1;32m    685\u001b[0m     \u001b[39massert\u001b[39;00m \u001b[39mself\u001b[39m\u001b[39m.\u001b[39m_data \u001b[39mis\u001b[39;00m \u001b[39mNone\u001b[39;00m\n",
      "File \u001b[0;32m<decorator-gen-23>:12\u001b[0m, in \u001b[0;36msetup_proj\u001b[0;34m(info, add_eeg_ref, activate, eeg_ref_ch_type, verbose)\u001b[0m\n",
      "File \u001b[0;32m~/git/uni/eeg-chord-oddball/.venv/lib64/python3.12/site-packages/mne/io/proj.py:1162\u001b[0m, in \u001b[0;36msetup_proj\u001b[0;34m(info, add_eeg_ref, activate, eeg_ref_ch_type, verbose)\u001b[0m\n\u001b[1;32m   1159\u001b[0m     info[\u001b[39m\"\u001b[39m\u001b[39mprojs\u001b[39m\u001b[39m\"\u001b[39m]\u001b[39m.\u001b[39mappend(eeg_proj)\n\u001b[1;32m   1161\u001b[0m \u001b[39m# Create the projector\u001b[39;00m\n\u001b[0;32m-> 1162\u001b[0m projector, nproj \u001b[39m=\u001b[39m make_projector_info(info)\n\u001b[1;32m   1163\u001b[0m \u001b[39mif\u001b[39;00m nproj \u001b[39m==\u001b[39m \u001b[39m0\u001b[39m:\n\u001b[1;32m   1164\u001b[0m     \u001b[39mif\u001b[39;00m verbose:\n",
      "File \u001b[0;32m~/git/uni/eeg-chord-oddball/.venv/lib64/python3.12/site-packages/mne/io/proj.py:926\u001b[0m, in \u001b[0;36mmake_projector_info\u001b[0;34m(info, include_active)\u001b[0m\n\u001b[1;32m    907\u001b[0m \u001b[39m@fill_doc\u001b[39m\n\u001b[1;32m    908\u001b[0m \u001b[39mdef\u001b[39;00m \u001b[39mmake_projector_info\u001b[39m(info, include_active\u001b[39m=\u001b[39m\u001b[39mTrue\u001b[39;00m):\n\u001b[1;32m    909\u001b[0m \u001b[39m    \u001b[39m\u001b[39m\"\"\"Make an SSP operator using the measurement info.\u001b[39;00m\n\u001b[1;32m    910\u001b[0m \n\u001b[1;32m    911\u001b[0m \u001b[39m    Calls make_projector on good channels.\u001b[39;00m\n\u001b[0;32m   (...)\u001b[0m\n\u001b[1;32m    924\u001b[0m \u001b[39m        How many items in the projector.\u001b[39;00m\n\u001b[1;32m    925\u001b[0m \u001b[39m    \"\"\"\u001b[39;00m\n\u001b[0;32m--> 926\u001b[0m     proj, nproj, _ \u001b[39m=\u001b[39m make_projector(\n\u001b[1;32m    927\u001b[0m         info[\u001b[39m\"\u001b[39;49m\u001b[39mprojs\u001b[39;49m\u001b[39m\"\u001b[39;49m], info[\u001b[39m\"\u001b[39;49m\u001b[39mch_names\u001b[39;49m\u001b[39m\"\u001b[39;49m], info[\u001b[39m\"\u001b[39;49m\u001b[39mbads\u001b[39;49m\u001b[39m\"\u001b[39;49m], include_active\n\u001b[1;32m    928\u001b[0m     )\n\u001b[1;32m    929\u001b[0m     \u001b[39mreturn\u001b[39;00m proj, nproj\n",
      "File \u001b[0;32m~/git/uni/eeg-chord-oddball/.venv/lib64/python3.12/site-packages/mne/io/proj.py:766\u001b[0m, in \u001b[0;36mmake_projector\u001b[0;34m(projs, ch_names, bads, include_active)\u001b[0m\n\u001b[1;32m    740\u001b[0m \u001b[39mdef\u001b[39;00m \u001b[39mmake_projector\u001b[39m(projs, ch_names, bads\u001b[39m=\u001b[39m(), include_active\u001b[39m=\u001b[39m\u001b[39mTrue\u001b[39;00m):\n\u001b[1;32m    741\u001b[0m \u001b[39m    \u001b[39m\u001b[39m\"\"\"Create an SSP operator from SSP projection vectors.\u001b[39;00m\n\u001b[1;32m    742\u001b[0m \n\u001b[1;32m    743\u001b[0m \u001b[39m    Parameters\u001b[39;00m\n\u001b[0;32m   (...)\u001b[0m\n\u001b[1;32m    764\u001b[0m \u001b[39m        The orthogonal basis of the projection vectors.\u001b[39;00m\n\u001b[1;32m    765\u001b[0m \u001b[39m    \"\"\"\u001b[39;00m\n\u001b[0;32m--> 766\u001b[0m     \u001b[39mreturn\u001b[39;00m _make_projector(projs, ch_names, bads, include_active)\n",
      "File \u001b[0;32m~/git/uni/eeg-chord-oddball/.venv/lib64/python3.12/site-packages/mne/io/proj.py:882\u001b[0m, in \u001b[0;36m_make_projector\u001b[0;34m(projs, ch_names, bads, include_active, inplace)\u001b[0m\n\u001b[1;32m    880\u001b[0m proj \u001b[39m=\u001b[39m np\u001b[39m.\u001b[39meye(nchan, nchan) \u001b[39m-\u001b[39m np\u001b[39m.\u001b[39mdot(U, U\u001b[39m.\u001b[39mT)\n\u001b[1;32m    881\u001b[0m \u001b[39mif\u001b[39;00m nproj \u001b[39m>\u001b[39m\u001b[39m=\u001b[39m nchan:  \u001b[39m# e.g., 3 channels and 3 projectors\u001b[39;00m\n\u001b[0;32m--> 882\u001b[0m     \u001b[39mraise\u001b[39;00m \u001b[39mRuntimeError\u001b[39;00m(\n\u001b[1;32m    883\u001b[0m         \u001b[39m\"\u001b[39m\u001b[39mApplication of \u001b[39m\u001b[39m%d\u001b[39;00m\u001b[39m projectors for \u001b[39m\u001b[39m%d\u001b[39;00m\u001b[39m channels \u001b[39m\u001b[39m\"\u001b[39m\n\u001b[1;32m    884\u001b[0m         \u001b[39m\"\u001b[39m\u001b[39mwill yield no components.\u001b[39m\u001b[39m\"\u001b[39m \u001b[39m%\u001b[39m (nproj, nchan)\n\u001b[1;32m    885\u001b[0m     )\n\u001b[1;32m    887\u001b[0m \u001b[39mreturn\u001b[39;00m proj, nproj, U\n",
      "\u001b[0;31mRuntimeError\u001b[0m: Application of 1 projectors for 1 channels will yield no components."
     ]
    }
   ],
   "source": [
    "\n",
    "# TODO: does not work yet, just copied and adapted the epoch timeframe\n",
    "# 400 ms before stimulus onset, 1600 ms after stimulus onset\n",
    "epochs = mne.Epochs(raw_subselect,evts,evts_dict_stim,tmin=-0.4,tmax=1.6)\n",
    "\n",
    "# extract data from epochs object\n",
    "data = epochs.get_data()\n",
    "times = epochs.times\n",
    "\n",
    "n_trials = 3 # use data.shape[0] for all\n",
    "fig, axs = plt.subplots(n_trials, 1, figsize=(10, 3*n_trials), sharex=True, sharey=True)\n",
    "\n",
    "# plot selected trials\n",
    "for i in range(n_trials):\n",
    "    for ch in range(data.shape[1]):\n",
    "        axs[i].plot(times, data[i, ch, :], label=f'Channel {ch}')\n",
    "    axs[i].set_title(f'Trial {i}')\n",
    "    axs[i].legend(loc='upper right')\n",
    "\n",
    "# label the x-axis\n",
    "plt.xlabel('Time (s)')\n",
    "\n",
    "# display the plot\n",
    "plt.show()\n",
    "\n"
   ]
  }
 ],
 "metadata": {
  "kernelspec": {
   "display_name": ".venv",
   "language": "python",
   "name": "python3"
  },
  "language_info": {
   "codemirror_mode": {
    "name": "ipython",
    "version": 3
   },
   "file_extension": ".py",
   "mimetype": "text/x-python",
   "name": "python",
   "nbconvert_exporter": "python",
   "pygments_lexer": "ipython3",
   "version": "3.12.0"
  }
 },
 "nbformat": 4,
 "nbformat_minor": 2
}
